{
  "cells": [
    {
      "cell_type": "markdown",
      "metadata": {
        "id": "view-in-github",
        "colab_type": "text"
      },
      "source": [
        "<a href=\"https://colab.research.google.com/github/emilioreyesurias/Programlll_2023/blob/main/PRACTICAS_PROGRAM_3.ipynb\" target=\"_parent\"><img src=\"https://colab.research.google.com/assets/colab-badge.svg\" alt=\"Open In Colab\"/></a>"
      ]
    },
    {
      "cell_type": "markdown",
      "metadata": {
        "id": "dWTuaAbkXILH"
      },
      "source": [
        "**PRACTICAS BLOQUE 1**"
      ]
    },
    {
      "cell_type": "markdown",
      "metadata": {
        "id": "xANjki-RHoki"
      },
      "source": [
        "Introduccion a Python\n",
        "\n",
        "Declaracion de variables"
      ]
    },
    {
      "cell_type": "code",
      "execution_count": null,
      "metadata": {
        "colab": {
          "base_uri": "https://localhost:8080/"
        },
        "id": "mAom_ge6HovQ",
        "outputId": "f6b62fd3-c433-4e6d-da63-216014f03a34"
      },
      "outputs": [
        {
          "name": "stdout",
          "output_type": "stream",
          "text": [
            "Hola Mundo\n"
          ]
        }
      ],
      "source": [
        "saludo = \"Hola Mundo\"\n",
        "print(saludo)"
      ]
    },
    {
      "cell_type": "markdown",
      "metadata": {
        "id": "pwxYLdmnI31q"
      },
      "source": [
        "CALCULADORA"
      ]
    },
    {
      "cell_type": "code",
      "execution_count": null,
      "metadata": {
        "colab": {
          "base_uri": "https://localhost:8080/"
        },
        "id": "9f3sv4wII4Tw",
        "outputId": "9810a2e1-6999-4c21-924d-ff94250bfc45"
      },
      "outputs": [
        {
          "name": "stdout",
          "output_type": "stream",
          "text": [
            "12.5\n"
          ]
        }
      ],
      "source": [
        "num1 = 5\n",
        "num2 = 7.5\n",
        "resp = num1 + num2\n",
        "print (resp)"
      ]
    },
    {
      "cell_type": "code",
      "execution_count": null,
      "metadata": {
        "colab": {
          "base_uri": "https://localhost:8080/"
        },
        "id": "UlBBx_1fKFJh",
        "outputId": "00228ffc-d94e-4331-b3f5-a5be1699f634"
      },
      "outputs": [
        {
          "name": "stdout",
          "output_type": "stream",
          "text": [
            "Hola Emilio Reyes, tu edad 20\n"
          ]
        }
      ],
      "source": [
        "name = \"Emilio Reyes\"\n",
        "edad = 20\n",
        "saludo = \"Hola \" + name + \", tu edad \"+ str(edad)\n",
        "\n",
        "print(saludo)"
      ]
    },
    {
      "cell_type": "code",
      "execution_count": null,
      "metadata": {
        "colab": {
          "base_uri": "https://localhost:8080/"
        },
        "id": "lU1M86PKLPPZ",
        "outputId": "e8013f7b-7946-4c12-ce24-4b462f909935"
      },
      "outputs": [
        {
          "name": "stdout",
          "output_type": "stream",
          "text": [
            "Dime tu nombre:JOSSELYN\n",
            "Tu edad: 24\n",
            "Hola que tal JOSSELYN, tu edad: 24\n"
          ]
        }
      ],
      "source": [
        "nombre = input(\"Dime tu nombre:\")\n",
        "edad = input (\"Tu edad: \")\n",
        "saludo = \"Hola que tal \"+ nombre + \", tu edad: \"+edad\n",
        "print(saludo)"
      ]
    },
    {
      "cell_type": "code",
      "execution_count": null,
      "metadata": {
        "colab": {
          "base_uri": "https://localhost:8080/"
        },
        "id": "zoNvn8MrMgHf",
        "outputId": "ac508bde-9dfe-4418-8571-8e095060a3af"
      },
      "outputs": [
        {
          "name": "stdout",
          "output_type": "stream",
          "text": [
            "Numero 1:2\n",
            "Numero 2:2\n",
            "La suma es: 0.0\n"
          ]
        }
      ],
      "source": [
        "numero1 = float (input(\"Numero 1:\"))\n",
        "numero2 = float (input(\"Numero 2:\"))\n",
        "resp = numero1 - numero2\n",
        "print(\"La suma es:\", resp)"
      ]
    },
    {
      "cell_type": "markdown",
      "metadata": {
        "id": "PjtJQvgJXLid"
      },
      "source": [
        "EXTRA"
      ]
    },
    {
      "cell_type": "code",
      "execution_count": null,
      "metadata": {
        "id": "LpD37qbZXOI1"
      },
      "outputs": [],
      "source": [
        "num1 = 5 #variable de tipo entero.\n",
        "num2 = 4.9 #variable de tipo double, real, decimal.\n",
        "print(\"Los valores: Num 1: \", num1, \" Num 2: \", num2)\n",
        "\n",
        "#num1 = 4.9\n",
        "print(\"Valor: Num 1: \", num1)"
      ]
    },
    {
      "cell_type": "code",
      "execution_count": null,
      "metadata": {
        "id": "A0wXnWAWXRXn"
      },
      "outputs": [],
      "source": [
        "varLogica = False\n",
        "\n",
        "print(\"Variable Booleana: \", varLogica)"
      ]
    },
    {
      "cell_type": "code",
      "execution_count": null,
      "metadata": {
        "id": "BZvktd8xX-1W"
      },
      "outputs": [],
      "source": []
    },
    {
      "cell_type": "markdown",
      "metadata": {
        "id": "YM3qz1LgXqcB"
      },
      "source": [
        "**FUNCIONES DE USUARIO**\n",
        "\n",
        "\n",
        "Convertir grados celsius a farenheit."
      ]
    },
    {
      "cell_type": "code",
      "execution_count": null,
      "metadata": {
        "id": "2TwRVFBeXuWe"
      },
      "outputs": [],
      "source": [
        "def convertir_cf(c):\n",
        "  return 32 + c*9/5"
      ]
    },
    {
      "cell_type": "code",
      "execution_count": null,
      "metadata": {
        "id": "z7IqgjMJXwQ_"
      },
      "outputs": [],
      "source": [
        "c = float(input(\"Celsius: \"))\n",
        "print(\"F: \", convertir_cf(c))"
      ]
    },
    {
      "cell_type": "markdown",
      "metadata": {
        "id": "wRKhaO-6X_4_"
      },
      "source": [
        "EJERCICIOS\n",
        "\n",
        "Convertir de Farenheit a Celsius\n",
        "Convertir de [Celsius, Farenheit] a Kelvin"
      ]
    },
    {
      "cell_type": "code",
      "execution_count": null,
      "metadata": {
        "id": "ZOOzROTSYEDu"
      },
      "outputs": [],
      "source": [
        "def fahrenheit_to_celsius(fahrenheit):\n",
        "    celsius = (fahrenheit - 32) * 5/9\n",
        "    return celsius"
      ]
    },
    {
      "cell_type": "code",
      "execution_count": null,
      "metadata": {
        "id": "f-LOoX8EYEfm"
      },
      "outputs": [],
      "source": [
        "def celsius_to_kelvin(celsius):\n",
        "    kelvin = celsius + 273.15\n",
        "    return kelvin\n"
      ]
    },
    {
      "cell_type": "markdown",
      "metadata": {
        "id": "HZrUCOd7YE9d"
      },
      "source": [
        "CALCULAR EL SUELDO MENSUAL"
      ]
    },
    {
      "cell_type": "code",
      "execution_count": null,
      "metadata": {
        "id": "XwY3mSJbYHoH"
      },
      "outputs": [],
      "source": [
        "def sueldo(numHrs, valorXhr):\n",
        "  sueldo = numHrs*valorXhr*30\n",
        "  if(numHrs>8):\n",
        "    sueldo += (numHrs-8)*valorXhr*2*30\n",
        "  #isss + afp = 3 + 6.25 = 9.25 = 100 - 9.25 = 90.75/100 = 0.9075\n",
        "  #sueldo = sueldo*0.9075\n",
        "  return sueldo"
      ]
    },
    {
      "cell_type": "code",
      "execution_count": null,
      "metadata": {
        "id": "jIaa--yhYJNG"
      },
      "outputs": [],
      "source": [
        "tabla_isr = [\n",
        "    [0.01, 472, 0, 0],\n",
        "    [472.01, 895.24, 0.1, 17.67],\n",
        "    [895.25, 2038.1, 0.2, 60.00],\n",
        "    [2038.11,9999999, 0.3, 288.57]\n",
        "]"
      ]
    },
    {
      "cell_type": "code",
      "execution_count": null,
      "metadata": {
        "id": "qapaz_nMYLvH"
      },
      "outputs": [],
      "source": [
        "def calcularIsr(sueldo, sueldoNeto):\n",
        "  impSr = 0\n",
        "  for tramo in tabla_isr:\n",
        "    if sueldo>tramo[0] and sueldo<=tramo[1]:\n",
        "      impSr = (sueldoNeto-tramo[0])*tramo[2] + tramo[3]\n",
        "  return impSr"
      ]
    },
    {
      "cell_type": "code",
      "execution_count": null,
      "metadata": {
        "id": "DxSZvbg3YOGP"
      },
      "outputs": [],
      "source": [
        "valorXhr = 4\n",
        "#isss = 3%\n",
        "#afp = 6.25%\n",
        "numHrs = float(input(\"Horas trabajadas: \"))\n",
        "s = sueldo(numHrs, valorXhr)\n",
        "isr = calcularIsr(s, s*0.9075)\n",
        "print( \"Sueldo: \", s, \"ISR: \", isr, s*0.9075-isr )"
      ]
    },
    {
      "cell_type": "markdown",
      "metadata": {
        "id": "daNwfKjzYVGn"
      },
      "source": [
        "FUNCIONES LAMBDA\n",
        "\n",
        "FUNCIONES PRECONTRUIDAS MAP, FILTER, FIND, REDUCE, ETC."
      ]
    },
    {
      "cell_type": "code",
      "execution_count": null,
      "metadata": {
        "id": "9qOJ7VmjYXoX"
      },
      "outputs": [],
      "source": [
        "def elevarCuadrado(num):\n",
        "  return num**2"
      ]
    },
    {
      "cell_type": "code",
      "execution_count": null,
      "metadata": {
        "id": "gZWBfB0MYZX5"
      },
      "outputs": [],
      "source": [
        "data = [1,2,3,4,5]"
      ]
    },
    {
      "cell_type": "code",
      "execution_count": null,
      "metadata": {
        "id": "UssVEkdNYau8"
      },
      "outputs": [],
      "source": [
        "resp = map(elevarCuadrado, data)\n",
        "print(list(resp))"
      ]
    },
    {
      "cell_type": "code",
      "execution_count": null,
      "metadata": {
        "id": "pvkUh8lcYcio"
      },
      "outputs": [],
      "source": [
        "resp = map(lambda n:n**2, data)\n",
        "print(list(resp))"
      ]
    },
    {
      "cell_type": "code",
      "execution_count": null,
      "metadata": {
        "id": "Nw3dtvpfYhxR"
      },
      "outputs": [],
      "source": [
        "resp = filter(lambda n:n>2, data)\n",
        "print( list(resp) )"
      ]
    },
    {
      "cell_type": "code",
      "execution_count": null,
      "metadata": {
        "id": "8UGwjKZwYjii"
      },
      "outputs": [],
      "source": [
        "resp = functools.reduce(lambda a,n:a+n, data)\n",
        "print(resp)"
      ]
    },
    {
      "cell_type": "markdown",
      "metadata": {
        "id": "F6vnjbtyaUIe"
      },
      "source": [
        "LISTAS"
      ]
    },
    {
      "cell_type": "code",
      "execution_count": null,
      "metadata": {
        "id": "KejyZxhZaU6e"
      },
      "outputs": [],
      "source": [
        "data = [2,5,6,8,9]"
      ]
    },
    {
      "cell_type": "code",
      "execution_count": null,
      "metadata": {
        "id": "2gyr6ydXaW7l"
      },
      "outputs": [],
      "source": [
        "resp = map(lambda n:n**3, data)\n",
        "print(list(resp))"
      ]
    },
    {
      "cell_type": "code",
      "execution_count": null,
      "metadata": {
        "id": "SItZyIWNaYY4"
      },
      "outputs": [],
      "source": [
        "f = map(lambda c:c*9/5 + 32, data)\n",
        "print( list(f) )"
      ]
    },
    {
      "cell_type": "code",
      "execution_count": null,
      "metadata": {
        "id": "UfhbjrNyaeXt"
      },
      "outputs": [],
      "source": [
        "pares = filter(lambda n:n%2==0, data)\n",
        "print( list(pares))"
      ]
    },
    {
      "cell_type": "code",
      "execution_count": null,
      "metadata": {
        "id": "_1fnac-vagT-"
      },
      "outputs": [],
      "source": [
        "impares = filter(lambda n:n%2!=0, data)\n",
        "print( list(impares) )"
      ]
    },
    {
      "cell_type": "markdown",
      "metadata": {
        "id": "852g9jsvao5u"
      },
      "source": [
        "CICLOS\n",
        "\n",
        "FOR"
      ]
    },
    {
      "cell_type": "code",
      "execution_count": null,
      "metadata": {
        "id": "4yW7aZDUapWe"
      },
      "outputs": [],
      "source": [
        "for item in data:\n",
        "  print(item)"
      ]
    },
    {
      "cell_type": "markdown",
      "metadata": {
        "id": "JnZM0wYNasFe"
      },
      "source": [
        "WHILE"
      ]
    },
    {
      "cell_type": "code",
      "execution_count": null,
      "metadata": {
        "id": "Ey3C6Rwnatx_"
      },
      "outputs": [],
      "source": [
        "i=0\n",
        "n = len(data)\n",
        "while i<n:\n",
        "  print( data[i] )\n",
        "  i+=1"
      ]
    },
    {
      "cell_type": "markdown",
      "metadata": {
        "id": "RxPFMkknaxdG"
      },
      "source": [
        "TABLA DE MULTIPLICAR"
      ]
    },
    {
      "cell_type": "code",
      "execution_count": null,
      "metadata": {
        "id": "bC9fY4a3azdO"
      },
      "outputs": [],
      "source": [
        "n = int(input(\"N Tabla: \"))\n",
        "\n",
        "for i in range(1,11):\n",
        "  print( n, \"x\", i, \"=\", n*i )"
      ]
    },
    {
      "cell_type": "markdown",
      "metadata": {
        "id": "QPcGpQCVJ4JK"
      },
      "source": [
        "---------------------------------------------------------------------------"
      ]
    },
    {
      "cell_type": "markdown",
      "metadata": {
        "id": "9O5dwhGolykd"
      },
      "source": [
        "TIEMPO"
      ]
    },
    {
      "cell_type": "code",
      "execution_count": null,
      "metadata": {
        "colab": {
          "base_uri": "https://localhost:8080/"
        },
        "id": "JVQtV-35lu9p",
        "outputId": "737ef214-a1f8-48ac-f786-e52c7055a5c5"
      },
      "outputs": [
        {
          "name": "stdout",
          "output_type": "stream",
          "text": [
            "1-) Dia a Segundos\n",
            "2-) Dia a Minutos\n",
            "3-) Dia a Semana\n",
            "4-) Dia a Mes\n",
            "5-) Dia a Años\n",
            "6-) Dia a Decada\n",
            "7-) Dia a Siglo\n",
            "8-) Dia a Horas\n",
            "9-) Dia a Milisegundos\n",
            "10-) Dia a Microsegundos\n",
            "\n",
            "Coloque aqui opcion 9\n",
            "Cantidad de Dia: 30\n",
            "Milisegundos =  2592000000.0\n"
          ]
        }
      ],
      "source": [
        "print(\"1-) Dia a Segundos\")\n",
        "print(\"2-) Dia a Minutos\")\n",
        "print(\"3-) Dia a Semana\")\n",
        "print(\"4-) Dia a Mes\")\n",
        "print(\"5-) Dia a Años\")\n",
        "print(\"6-) Dia a Decada\")\n",
        "print(\"7-) Dia a Siglo\")\n",
        "print(\"8-) Dia a Horas\")\n",
        "print(\"9-) Dia a Milisegundos\")\n",
        "print(\"10-) Dia a Microsegundos\")\n",
        "print(\"\")\n",
        "hl=int(input(\"Coloque aqui opcion \"))\n",
        "if hl==1:\n",
        "    mon1=int(input(\"Cantidad de Dia: \"))\n",
        "    v1=mon1*86400\n",
        "    print (\"Segundos = \", v1)\n",
        "if hl==2:\n",
        "    mon2=float(input(\"Cantidad de Dia: \"))\n",
        "    v2=mon2*1440\n",
        "    print(\"Minutos = \", v2)\n",
        "if hl==3:\n",
        "    mon3=int(input(\"Cantidad de Dia: \"))\n",
        "    v3=mon3/7\n",
        "    print(\"Semana = \", v3)\n",
        "if hl==4:\n",
        "    mon4=int(input(\"Cantidad de Dia: \"))\n",
        "    v4=mon4/30.417\n",
        "    print(\"Mes = \", v4)\n",
        "if hl==5:\n",
        "    mon5=int(input(\"Cantidad de Dia: \"))\n",
        "    v5=mon5/365\n",
        "    print(\"Años = \", v5)\n",
        "if hl==6:\n",
        "    mon6=int(input(\"Cantidad de Dia: \"))\n",
        "    v6=mon6/3650\n",
        "    print(\"Decada = \", v6)\n",
        "if hl==7:\n",
        "    mon7=int(input(\"Cantidad de Dia: \"))\n",
        "    v7=mon7/36500\n",
        "    print(\"Siglo = \", v7)\n",
        "if hl==8:\n",
        "    mon8=int(input(\"Cantidad de Dia: \"))\n",
        "    v8=mon8*24\n",
        "    print(\"Horas = \", v8)\n",
        "if hl==9:\n",
        "    mon9=int(input(\"Cantidad de Dia: \"))\n",
        "    v9=mon9*8.64e+7\n",
        "    print(\"Milisegundos = \", v9)\n",
        "if hl==10:\n",
        "    mon10=int(input(\"Cantidad de Dia: \"))\n",
        "    v10=mon10*8.64e+10\n",
        "    print(\"Microsegundos = \", v10)\n"
      ]
    },
    {
      "cell_type": "markdown",
      "metadata": {
        "id": "8pjYf9zgJ2Eh"
      },
      "source": [
        "---------------------------------------------------------------------------"
      ]
    },
    {
      "cell_type": "markdown",
      "metadata": {
        "id": "0yqTpTzTB8KA"
      },
      "source": [
        "TAREA EJERCICIOS BASICOS DE PYTHON"
      ]
    },
    {
      "cell_type": "markdown",
      "metadata": {
        "id": "wyZBXonqCBHw"
      },
      "source": [
        "1. Calcular sobre el sueldo las deducciones por ley ISSS (3%), AFP(6.25%), ISR(Según tabla) e imprima el total deducciones y sueldo neto. (20%)"
      ]
    },
    {
      "cell_type": "code",
      "execution_count": null,
      "metadata": {
        "id": "nEVNHUtACCD_"
      },
      "outputs": [],
      "source": [
        "def sueldo(numHrs, valorXhr):\n",
        "  sueldo = numHrs*valorXhr*30\n",
        "  if(numHrs>8):\n",
        "    sueldo += (numHrs-8)*valorXhr*2*30\n",
        "  return sueldo"
      ]
    },
    {
      "cell_type": "code",
      "execution_count": null,
      "metadata": {
        "id": "9bdE24uICNsv"
      },
      "outputs": [],
      "source": [
        "tabla_isr = [\n",
        "    [0.01,472,0,0],\n",
        "    [472.01, 895.24, 0.1, 17.67],\n",
        "    [895.25, 2038.1, 0.2, 60.00],\n",
        "    [2038.11, 9999999, 0.3, 288.57]\n",
        "]"
      ]
    },
    {
      "cell_type": "code",
      "execution_count": null,
      "metadata": {
        "id": "_U__rqO3CQ2Y"
      },
      "outputs": [],
      "source": [
        "def calcularIsr(sueldo, sueldoNeto):\n",
        "  impSr=0\n",
        "  for tramo in tabla_isr:\n",
        "    if sueldo>tramo[0] and sueldo<=tramo[1]:\n",
        "      impSr = (sueldoNeto-tramo[0])*tramo[2]+ tramo[3]\n",
        "  return impSr"
      ]
    },
    {
      "cell_type": "code",
      "execution_count": null,
      "metadata": {
        "id": "D2LA-bzV06M-"
      },
      "outputs": [],
      "source": [
        "def deducciones():\n",
        "\n",
        "  print(\"Calculadora Deducciones por Ley\"+ \"\\n\")\n",
        "  valorXhr = 4\n",
        "  numHrs = int(input(\"Horas trabajadas: \"+ \"\\n\"))\n",
        "  s = sueldo(numHrs,valorXhr)\n",
        "  isr= calcularIsr(s,s*0.9075)\n",
        "  isss = s*0.03\n",
        "  afp = s*0.0625\n",
        "  print(\"Sueldo: \",str(s) + \"\\n\")\n",
        "  print(\"ISSS: \",str(isss)+ \"\\n\")\n",
        "  print(\"AFP: \",str(afp)+ \"\\n\")\n",
        "  print(\"ISR: \",str(isr) + \"\\n\")\n",
        "  print(\"Sueldo con deducciones aplicadas por ley: \",s-isr-isss-afp)\n",
        "\n"
      ]
    },
    {
      "cell_type": "markdown",
      "metadata": {
        "id": "gTQHvoXiJzES"
      },
      "source": [
        "--------------------------------------------------------------------------"
      ]
    },
    {
      "cell_type": "markdown",
      "metadata": {
        "id": "B9q1lVVD0-u7"
      },
      "source": [
        "**2. Calcular el valor a pagar según el número de metros consumidos de agua potable. (20%)**\n"
      ]
    },
    {
      "cell_type": "code",
      "execution_count": null,
      "metadata": {
        "id": "Ef-E9KDjCjNI"
      },
      "outputs": [],
      "source": [
        "def maPotable():\n",
        "  print(\"\\n\")\n",
        "  print(\"Calculadora de metros consumidos de agua potable\" + \"\\n\")\n",
        "  mtr = int(input(\"Ingrese los metros consumidos: \"))\n",
        "  print(\"\\n\")\n",
        "\n",
        "  pago = 0\n",
        "\n",
        "  if (mtr >= 1 & mtr <=18):\n",
        "    cuota = 6\n",
        "\n",
        "  if (mtr >= 19 & mtr <=28):\n",
        "    cuota = (mtr - 18) * 0.45 + 6\n",
        "\n",
        "  if (mtr >= 29):\n",
        "    exceso = mtr - 28\n",
        "    op1 = exceso * 0.65\n",
        "    op2= 10 * 0.45\n",
        "    cuota =  op1 + op2 + 6\n",
        "\n",
        "  print(\"Metros Consumidos: \",str(mtr) + \"\\n\")\n",
        "  print(\"Valor a pagar : \",str(cuota) + \"\\n\")\n"
      ]
    },
    {
      "cell_type": "markdown",
      "metadata": {
        "id": "2bjklGW3J89i"
      },
      "source": [
        "---------------------------------------------------------------------------"
      ]
    },
    {
      "cell_type": "markdown",
      "metadata": {
        "id": "BIUlfwcJC3eY"
      },
      "source": [
        "3.DESARROLLE LA TABLA DE MESES ACUMULADOS A N MESES. (10%)"
      ]
    },
    {
      "cell_type": "code",
      "execution_count": null,
      "metadata": {
        "id": "wrxbqEhRC433"
      },
      "outputs": [],
      "source": [
        "def calcularNmeses():\n",
        "  def meses_acumulados(n):\n",
        "    print(\"\\n\")\n",
        "    print(\"| Meses | Meses Acumulados |\")\n",
        "    print(\"|-------|------------------|\")\n",
        "\n",
        "    total = 0\n",
        "    for i in range(1, n + 1):\n",
        "        total += i\n",
        "\n",
        "        print(f\"|{i} + {total-i:3}| = {total:15}|\")\n",
        "  print(\"\\n\")\n",
        "  meses = int(input(\"Ingrese el número de meses para generar la tabla: \"))\n",
        "  meses_acumulados(meses)"
      ]
    },
    {
      "cell_type": "markdown",
      "metadata": {
        "id": "H8YFZSXQJsmL"
      },
      "source": [
        "---------------------------------------------------------------------------"
      ]
    },
    {
      "cell_type": "markdown",
      "metadata": {
        "id": "0d-bh43b1Daa"
      },
      "source": [
        "**4. CONVERSORES**"
      ]
    },
    {
      "cell_type": "markdown",
      "metadata": {
        "id": "6KZE7Sp2EIIv"
      },
      "source": [
        "Funcion que Contiene Menu de Categorias de Conversores"
      ]
    },
    {
      "cell_type": "code",
      "execution_count": null,
      "metadata": {
        "id": "wjz-LJWEENz-"
      },
      "outputs": [],
      "source": [
        "def menuConversores():\n",
        "  i = 1\n",
        "  while(i == 1):\n",
        "    print(\"\\n\")\n",
        "    print(\"Conversores\")\n",
        "    print(\"1. Monedas\")\n",
        "    print(\"2. Longitud\")\n",
        "    print(\"3. Masa\")\n",
        "    print(\"4. Almacenamiento\")\n",
        "    print(\"5. Tiempo\")\n",
        "    print(\"6. Volumen\")\n",
        "    print(\"7. Area\")\n",
        "    print(\"0-) Regresar\")\n",
        "    op = int(input(\"Elija una categoria: \"))\n",
        "    print(\"\\n\")\n",
        "\n",
        "    if (op==1):\n",
        "      menuMonedas()\n",
        "      i = 1\n",
        "    if (op==2):\n",
        "      menuLongitud()\n",
        "      i = 1\n",
        "    if (op==3):\n",
        "      menuMasa()\n",
        "      i = 1\n",
        "    if (op==4):\n",
        "      menuAlmacen()\n",
        "      i = 1\n",
        "    if (op==5):\n",
        "      menuTiempo()\n",
        "      i = 1\n",
        "    if (op==6):\n",
        "      menuVolumen()\n",
        "      i = 1\n",
        "    if (op==7):\n",
        "      menuArea()\n",
        "      i = 1\n",
        "    if (op==0):\n",
        "      i = 0\n",
        "    if (op >7):\n",
        "      print(\"Opcion no valida\")\n",
        "      input(\"Presiona enter para continuar \"+ \"\\n\")\n",
        "      i = 1\n"
      ]
    },
    {
      "cell_type": "markdown",
      "metadata": {
        "id": "9uD3IQSOJqti"
      },
      "source": [
        "--------------------------------------------------------------------------"
      ]
    },
    {
      "cell_type": "markdown",
      "metadata": {
        "id": "2xeoGZnDEX9H"
      },
      "source": [
        "Funcion que contiene categoria de Monedas"
      ]
    },
    {
      "cell_type": "code",
      "execution_count": null,
      "metadata": {
        "id": "sYGyyH8BEcZ3"
      },
      "outputs": [],
      "source": [
        "def menuMonedas():\n",
        "  m = 1\n",
        "  while(m == 1):\n",
        "\n",
        "    print(\"CONVERSOR DE MONEDAS\")\n",
        "    print(\"1-) Dolares a pesos Chilenos\")\n",
        "    print(\"2-) Pesos chilenos a Dolares\")\n",
        "    print(\"3-) Dolares a Euros\")\n",
        "    print(\"4-) Euros a Dolares\")\n",
        "    print(\"5-) Pesos Mexicanos a Dolares\")\n",
        "    print(\"6-) Dolares a Pesos Mexicanos\")\n",
        "    print(\"7-) Yenes a Dolares\")\n",
        "    print(\"8-) Dolares a Yenes\")\n",
        "    print(\"9-) Yuanes a Dolares\")\n",
        "    print(\"10-) Dolares a Yuanes\")\n",
        "    print(\"0-) Regresar\")\n",
        "    print(\"\")\n",
        "    hl=int(input(\"Elija una opcion \"+ \"\\n\"))\n",
        "    if hl==1:\n",
        "        mon1=int(input(\"Cantidad de Dolares: \"))\n",
        "        v1=mon1*853.2100\n",
        "        print (\"Pesos Chilenos = \", v1)\n",
        "        input(\"Presiona enter para continuar\"+ \"\\n\")\n",
        "        m = 1\n",
        "    if hl==2:\n",
        "        mon2=float(input(\"Cantidad de Pesos Chilenos: \"))\n",
        "        v2=mon2/853.2100\n",
        "        print(\"Dolares = \", v2)\n",
        "        input(\"Presiona enter para continuar\"+ \"\\n\")\n",
        "        m = 1\n",
        "    if hl==3:\n",
        "        mon3=int(input(\"Cantidad de Dolares: \"))\n",
        "        v3=mon3*0.9121\n",
        "        print(\"Euros = \", v3)\n",
        "        input(\"Presiona enter para continuar\"+ \"\\n\")\n",
        "        m = 1\n",
        "    if hl==4:\n",
        "        mon4=int(input(\"Cantidad de Euros: \"))\n",
        "        v4=mon4/0.9121\n",
        "        print(\"Dolares = \", v4)\n",
        "        input(\"Presiona enter para continuar\"+ \"\\n\")\n",
        "        m = 1\n",
        "    if hl==5:\n",
        "        mon5=int(input(\"Cantidad de Pesos Mexicanos: \"))\n",
        "        v5=mon5/17.0129\n",
        "        print(\"Dolares = \", v5)\n",
        "        input(\"Presiona enter para continuar\"+ \"\\n\")\n",
        "        m = 1\n",
        "    if hl==6:\n",
        "        mon6=int(input(\"Cantidad de Dolares: \"))\n",
        "        v6=mon6*17.0129\n",
        "        print(\"Pesos Mexicanos = \", v6)\n",
        "        input(\"Presiona enter para continuar\"+ \"\\n\")\n",
        "        m = 1\n",
        "    if hl==7:\n",
        "        mon7=int(input(\"Cantidad de Yenes \"))\n",
        "        v7=mon7/144.9050\n",
        "        print(\"Dolares = \", v7)\n",
        "        input(\"Presiona enter para continuar\"+ \"\\n\")\n",
        "        m = 1\n",
        "    if hl==8:\n",
        "        mon8=int(input(\"Cantidad de Dolares \"))\n",
        "        v8=mon8*144.9050\n",
        "        print(\"Yenes = \", v8)\n",
        "        input(\"Presiona enter para continuar\"+ \"\\n\")\n",
        "        m = 1\n",
        "    if hl==9:\n",
        "        mon9=int(input(\"Cantidad de Yuanes \"))\n",
        "        v9=mon9/7.2545\n",
        "        print(\"Dolares = \", v9)\n",
        "        input(\"Presiona enter para continuar\"+ \"\\n\")\n",
        "        m = 1\n",
        "    if hl==10:\n",
        "        mon10=int(input(\"Cantidad de Dolares: \"))\n",
        "        v10=mon10*7.2545\n",
        "        print(\"Yuanes = \", v10)\n",
        "        input(\"Presiona enter para continuar\"+ \"\\n\")\n",
        "        m = 1\n",
        "    if hl==0:\n",
        "      m = 0\n",
        "    if (hl!=0 and hl!=1 and hl!=2 and hl!=3 and hl!=4 and hl!=5 and hl!=6 and hl!=7 and hl!=8 and hl!=9 and hl!=10):\n",
        "      print(\"Opcion invalida!\")\n",
        "      input(\"Presiona enter para continuar\"+ \"\\n\")\n",
        "      hl = 1"
      ]
    },
    {
      "cell_type": "markdown",
      "metadata": {
        "id": "V-kwOVeFJnua"
      },
      "source": [
        "---------------------------------------------------------------------------"
      ]
    },
    {
      "cell_type": "markdown",
      "metadata": {
        "id": "GNAt5_McEmtH"
      },
      "source": [
        "Funcion que contiene categoria de Longitud"
      ]
    },
    {
      "cell_type": "code",
      "execution_count": null,
      "metadata": {
        "id": "3BQA9SAfoehT"
      },
      "outputs": [],
      "source": [
        "def menuLongitud():\n",
        "  ml = 1\n",
        "  while(ml == 1):\n",
        "    print(\"CONVERSOR DE LONGITUD\")\n",
        "    print(\"1-) Metros a Centimetros\")\n",
        "    print(\"2-) Centimetros a Metros\")\n",
        "    print(\"3-) Metros a Milimetros\")\n",
        "    print(\"4-) Milimetros a Metros\")\n",
        "    print(\"5-) Metros a Kilometros\")\n",
        "    print(\"6-) Kilometros a Metros\")\n",
        "    print(\"7-) Metros a Millas\")\n",
        "    print(\"8-) Millas a Metros\")\n",
        "    print(\"9-) Metro a Pie\")\n",
        "    print(\"10-) Pie a Metro\")\n",
        "    print(\"0-) Regresar\")\n",
        "    print(\"\")\n",
        "    hl=int(input(\"Elija una opcion \"+ \"\\n\"))\n",
        "    if hl==1:\n",
        "        long1=int(input(\"Cantidad de Metros: \"))\n",
        "        v1=long1*100\n",
        "        print (\"Centimetros = \", v1)\n",
        "        input(\"Presiona enter para continuar\"+ \"\\n\")\n",
        "        ml = 1\n",
        "    if hl==2:\n",
        "        long2=float(input(\"Cantidad de Centimetros: \"))\n",
        "        v2=long2/100\n",
        "        print(\"Metros = \", v2)\n",
        "        input(\"Presiona enter para continuar\"+ \"\\n\")\n",
        "        ml = 1\n",
        "    if hl==3:\n",
        "        long3=int(input(\"Cantidad de Metros: \"))\n",
        "        v3=long3*1000\n",
        "        print(\"Milimetros = \", v3)\n",
        "        input(\"Presiona enter para continuar\"+ \"\\n\")\n",
        "        ml = 1\n",
        "    if hl==4:\n",
        "        long4=int(input(\"Cantidad de Milimetros: \"))\n",
        "        v4=long4/1000\n",
        "        print(\"Metros = \", v4)\n",
        "        input(\"Presiona enter para continuar\"+ \"\\n\")\n",
        "        ml = 1\n",
        "    if hl==5:\n",
        "        long5=int(input(\"Cantidad de Metros: \"))\n",
        "        v5=long5/1000\n",
        "        print(\"Kilometros = \", v5)\n",
        "        input(\"Presiona enter para continuar\"+ \"\\n\")\n",
        "        ml = 1\n",
        "    if hl==6:\n",
        "        long6=int(input(\"Cantidad de Kilometros: \"))\n",
        "        v6=long6*1000\n",
        "        print(\"Metros = \", v6)\n",
        "        input(\"Presiona enter para continuar\"+ \"\\n\")\n",
        "        ml = 1\n",
        "    if hl==7:\n",
        "        long7=int(input(\"Cantidad de Metros \"))\n",
        "        v7=long7/1609\n",
        "        print(\"Millas = \", v7)\n",
        "        input(\"Presiona enter para continuar\"+ \"\\n\")\n",
        "        ml = 1\n",
        "    if hl==8:\n",
        "        long8=int(input(\"Cantidad de Millas: \"))\n",
        "        v8=lomg8*1609\n",
        "        print(\"Metros = \", v8)\n",
        "        input(\"Presiona enter para continuar\"+ \"\\n\")\n",
        "        ml = 1\n",
        "    if hl==9:\n",
        "        long9=int(input(\"Cantidad de Mteros: \"))\n",
        "        v9=long9*3.281\n",
        "        print(\"Pies = \", v9)\n",
        "        input(\"Presiona enter para continuar\"+ \"\\n\")\n",
        "        ml = 1\n",
        "    if hl==10:\n",
        "        long10=int(input(\"Cantidad de Pies: \"))\n",
        "        v10=long10/3.281\n",
        "        print(\"Metros = \", v10)\n",
        "        input(\"Presiona enter para continuar\"+ \"\\n\")\n",
        "        ml = 1\n",
        "    if hl==0:\n",
        "        ml = 0\n",
        "    if (hl!=0 and hl!=1 and  hl!=2 and hl!=3 and hl!=4 and hl!=5 and hl!=6 and hl!=7 and hl!=8 and hl!=9 and hl!=10):\n",
        "      print(\"Opcion invalida!\")\n",
        "      input(\"Presiona enter para continuar\"+ \"\\n\")\n",
        "      hl = 1"
      ]
    },
    {
      "cell_type": "markdown",
      "metadata": {
        "id": "mhOlxFp2Jlk9"
      },
      "source": [
        "---------------------------------------------------------------------------"
      ]
    },
    {
      "cell_type": "markdown",
      "metadata": {
        "id": "6ronzJ80E5o3"
      },
      "source": [
        "Funcion que contiene categoria de Masa"
      ]
    },
    {
      "cell_type": "code",
      "execution_count": null,
      "metadata": {
        "id": "xcPz5kIzE4nn"
      },
      "outputs": [],
      "source": [
        "def menuMasa():\n",
        "  mm=1\n",
        "  while(mm==1):\n",
        "    print(\"CONVERSOR DE MASA\")\n",
        "    print(\"1-) Libras a Kilogramos\")\n",
        "    print(\"2-) Kilogramos a Libras\")\n",
        "    print(\"3-) Libras a Gramos\")\n",
        "    print(\"4-) Gramos a Libras\")\n",
        "    print(\"5-) Libras a Onzas\")\n",
        "    print(\"6-) Onzas a Libras\")\n",
        "    print(\"7-) Libras a Miligramos\")\n",
        "    print(\"8-) Miligramos a Libras\")\n",
        "    print(\"9-) Libras a Microgramos\")\n",
        "    print(\"10-) Microgramos a Libras\")\n",
        "    print(\"0-) Regresar\")\n",
        "    print(\"\")\n",
        "    hl=int(input(\"Elija una opcion \"+ \"\\n\"))\n",
        "    if hl==1:\n",
        "        masa1=int(input(\"Cantidad de Libras: \"))\n",
        "        v1=masa1/2.205\n",
        "        print (\"Kilogramos = \", v1)\n",
        "        input(\"Presiona enter para continuar\"+ \"\\n\")\n",
        "        mm=1\n",
        "    if hl==2:\n",
        "        masa2=float(input(\"Cantidad de Kilogramos: \"))\n",
        "        v2=masa2*2.205\n",
        "        print(\"Libras = \", v2)\n",
        "        input(\"Presiona enter para continuar\"+ \"\\n\")\n",
        "        mm=1\n",
        "    if hl==3:\n",
        "        masa3=int(input(\"Cantidad de Libras: \"))\n",
        "        v3=masa3*453.6\n",
        "        print(\"Gramos = \", v3)\n",
        "        input(\"Presiona enter para continuar\"+ \"\\n\")\n",
        "        mm=1\n",
        "    if hl==4:\n",
        "        masa4=int(input(\"Cantidad de Gramos: \"))\n",
        "        v4=masa4/453.6\n",
        "        print(\"Libras = \", v4)\n",
        "        input(\"Presiona enter para continuar\"+ \"\\n\")\n",
        "        mm=1\n",
        "    if hl==5:\n",
        "        masa5=int(input(\"Cantidad de Libras: \"))\n",
        "        v5=masa5*16\n",
        "        print(\"Onzas = \", v5)\n",
        "        input(\"Presiona enter para continuar\"+ \"\\n\")\n",
        "        mm=1\n",
        "    if hl==6:\n",
        "        masa6=int(input(\"Cantidad de Onzas: \"))\n",
        "        v6=masa6/16\n",
        "        print(\"Libras = \", v6)\n",
        "        input(\"Presiona enter para continuar\"+ \"\\n\")\n",
        "        mm=1\n",
        "    if hl==7:\n",
        "        masa7=int(input(\"Cantidad de Libras: \"))\n",
        "        v7=masa7*453600\n",
        "        print(\"Miligramos = \", v7)\n",
        "        input(\"Presiona enter para continuar\"+ \"\\n\")\n",
        "        mm=1\n",
        "    if hl==8:\n",
        "        masa8=int(input(\"Cantidad de Miligramos: \"))\n",
        "        v8=masa8/453600\n",
        "        print(\"Libras = \", v8)\n",
        "        input(\"Presiona enter para continuar\"+ \"\\n\")\n",
        "        mm=1\n",
        "    if hl==9:\n",
        "        masa9=int(input(\"Cantidad de Libras: \"))\n",
        "        v9=masa9*4.536e+8\n",
        "        print(\"Microgramos = \", v9)\n",
        "        input(\"Presiona enter para continuar\"+ \"\\n\")\n",
        "        mm=1\n",
        "    if hl==10:\n",
        "        masa10=int(input(\"Cantidad de Microgramos: \"))\n",
        "        v10=masa10/4.536e+8\n",
        "        print(\"Libras = \", v10)\n",
        "        input(\"Presiona enter para continuar\"+ \"\\n\")\n",
        "        mm=1\n",
        "    if hl==0:\n",
        "      mm=0\n",
        "    if (hl!=0 and hl!=1 and hl!=2 and hl!=3 and hl!=4 and hl!=5 and hl!=6 and hl!=7 and hl!=8 and hl!=9 and hl!=10):\n",
        "      print(\"Opcion invalida!\")\n",
        "      input(\"Presiona enter para continuar\"+ \"\\n\")\n",
        "      hl = 1\n",
        "\n"
      ]
    },
    {
      "cell_type": "markdown",
      "metadata": {
        "id": "_VXMVVvYJjbl"
      },
      "source": [
        "-------------------------------------------------------------------------"
      ]
    },
    {
      "cell_type": "markdown",
      "metadata": {
        "id": "SjkWdVEiFG4f"
      },
      "source": [
        "Funcion que contiene categoria de Almacenamiento"
      ]
    },
    {
      "cell_type": "code",
      "execution_count": null,
      "metadata": {
        "id": "CvjgFTJmFJQ_"
      },
      "outputs": [],
      "source": [
        "def menuAlmacen():\n",
        "  ma=1\n",
        "  while(ma==1):\n",
        "    print(\"CONVERSOR DE ALMACENAMIENTO\")\n",
        "    print(\"1-) Byte a Kilobyte\")\n",
        "    print(\"2-) Kilobyte a Byte\")\n",
        "    print(\"3-) Megabyte a Gigabyte\")\n",
        "    print(\"4-) Gigabyte a Megabyte\")\n",
        "    print(\"5-) Petabyte a Terabyte\")\n",
        "    print(\"6-) Terabyte a Petabyte\")\n",
        "    print(\"7-) Gigabyte a Terabit\")\n",
        "    print(\"8-) Terabit a Gigabyte\")\n",
        "    print(\"9-) Gigabyte a Petabit\")\n",
        "    print(\"10-) Petabit a Terabit\")\n",
        "    print(\"0-) Regresar\")\n",
        "    print(\"\")\n",
        "    hl=int(input(\"Elija una opcion \"+ \"\\n\"))\n",
        "    if hl==1:\n",
        "        mon1=int(input(\"Cantidad de Byte: \"))\n",
        "        v1=mon1/1000\n",
        "        print (\"Kilobytes = \", v1)\n",
        "        input(\"Presiona enter para continuar\"+ \"\\n\")\n",
        "        ma=1\n",
        "    if hl==2:\n",
        "        mon2=float(input(\"Cantidad de Kilobyte: \"))\n",
        "        v2=mon2*1000\n",
        "        print(\"Byte = \", v2)\n",
        "        input(\"Presiona enter para continuar\"+ \"\\n\")\n",
        "        ma=1\n",
        "    if hl==3:\n",
        "        mon3=int(input(\"Cantidad de Megabyte: \"))\n",
        "        v3=mon3*1000\n",
        "        print(\"Gigabyte = \", v3)\n",
        "        input(\"Presiona enter para continuar\"+ \"\\n\")\n",
        "        ma=1\n",
        "    if hl==4:\n",
        "        mon4=int(input(\"Cantidad de Gigabyte: \"))\n",
        "        v4=mon4*1000\n",
        "        print(\"Megabyte = \", v4)\n",
        "        input(\"Presiona enter para continuar\"+ \"\\n\")\n",
        "        ma=1\n",
        "    if hl==5:\n",
        "        mon5=int(input(\"Cantidad de Petabyte: \"))\n",
        "        v5=mon5*1000\n",
        "        print(\"Terabyte = \", v5)\n",
        "        input(\"Presiona enter para continuar\"+ \"\\n\")\n",
        "        ma=1\n",
        "    if hl==6:\n",
        "        mon6=int(input(\"Cantidad de Terabyte: \"))\n",
        "        v6=mon6*1000\n",
        "        print(\"Petabyte = \", v6)\n",
        "        input(\"Presiona enter para continuar\"+ \"\\n\")\n",
        "        ma=1\n",
        "    if hl==7:\n",
        "        mon7=int(input(\"Cantidad de Gigabyte: \"))\n",
        "        v7=mon7/125\n",
        "        print(\"Terabit = \", v7)\n",
        "        input(\"Presiona enter para continuar\"+ \"\\n\")\n",
        "        ma=1\n",
        "    if hl==8:\n",
        "        mon8=int(input(\"Cantidad de Terabit: \"))\n",
        "        v8=mon8*125\n",
        "        print(\"Gigabyte = \", v8)\n",
        "        input(\"Presiona enter para continuar\"+ \"\\n\")\n",
        "        ma=1\n",
        "    if hl==9:\n",
        "        mon9=int(input(\"Cantidad de Gigabyte: \"))\n",
        "        v9=mon9/125000\n",
        "        print(\"Petabit = \", v9)\n",
        "        input(\"Presiona enter para continuar\"+ \"\\n\")\n",
        "        ma=1\n",
        "    if hl==10:\n",
        "        mon10=int(input(\"Cantidad de Petabit: \"))\n",
        "        v10=mon10*1000\n",
        "        print(\"Terabit = \", v10)\n",
        "        input(\"Presiona enter para continuar\"+ \"\\n\")\n",
        "        ma=1\n",
        "    if hl==0:\n",
        "      ma=0\n",
        "    if (hl!=0 and hl!=1 and hl!=2 and hl!=3 and hl!=4 and hl!=5 and hl!=6 and hl!=7 and hl!=8 and hl!=9 and hl!=10):\n",
        "      print(\"Opcion invalida!\")\n",
        "      input(\"Presiona enter para continuar\"+ \"\\n\")\n",
        "      hl = 1"
      ]
    },
    {
      "cell_type": "markdown",
      "metadata": {
        "id": "ea1QXeJrJg91"
      },
      "source": [
        "-------------------------------------------------------------------------"
      ]
    },
    {
      "cell_type": "markdown",
      "metadata": {
        "id": "D-9f_7XGFNmH"
      },
      "source": [
        "Funcion que contiene categoria de Tiempo"
      ]
    },
    {
      "cell_type": "code",
      "execution_count": null,
      "metadata": {
        "id": "_vnRaJsNFQl_"
      },
      "outputs": [],
      "source": [
        "def menuTiempo():\n",
        "  mt=1\n",
        "\n",
        "  while(mt==1):\n",
        "    print(\"CONVERSOR DE TIEMPO\")\n",
        "    print(\"1-) Dia a Segundos\")\n",
        "    print(\"2-) Dia a Minutos\")\n",
        "    print(\"3-) Dia a Semana\")\n",
        "    print(\"4-) Dia a Mes\")\n",
        "    print(\"5-) Dia a Años\")\n",
        "    print(\"6-) Dia a Decada\")\n",
        "    print(\"7-) Dia a Siglo\")\n",
        "    print(\"8-) Dia a Horas\")\n",
        "    print(\"9-) Dia a Milisegundos\")\n",
        "    print(\"10-) Dia a Microsegundos\")\n",
        "    print(\"0-) Regresar\")\n",
        "    print(\"\")\n",
        "    hl=int(input(\"Elija una opcion \"+ \"\\n\"))\n",
        "    if hl==1:\n",
        "        mon1=int(input(\"Cantidad de Dia: \"))\n",
        "        v1=mon1*86400\n",
        "        print (\"Segundos = \", v1)\n",
        "        input(\"Presiona enter para continuar\"+ \"\\n\")\n",
        "        mt=1\n",
        "    if hl==2:\n",
        "        mon2=float(input(\"Cantidad de Dia: \"))\n",
        "        v2=mon2*1440\n",
        "        print(\"Minutos = \", v2)\n",
        "        input(\"Presiona enter para continuar\"+ \"\\n\")\n",
        "        mt=1\n",
        "    if hl==3:\n",
        "        mon3=int(input(\"Cantidad de Dia: \"))\n",
        "        v3=mon3/7\n",
        "        print(\"Semana = \", v3)\n",
        "        input(\"Presiona enter para continuar\"+ \"\\n\")\n",
        "        mt=1\n",
        "    if hl==4:\n",
        "        mon4=int(input(\"Cantidad de Dia: \"))\n",
        "        v4=mon4/30.417\n",
        "        print(\"Mes = \", v4)\n",
        "        input(\"Presiona enter para continuar\"+ \"\\n\")\n",
        "        mt=1\n",
        "    if hl==5:\n",
        "        mon5=int(input(\"Cantidad de Dia: \"))\n",
        "        v5=mon5/365\n",
        "        print(\"Años = \", v5)\n",
        "        input(\"Presiona enter para continuar\"+ \"\\n\")\n",
        "        mt=1\n",
        "    if hl==6:\n",
        "        mon6=int(input(\"Cantidad de Dia: \"))\n",
        "        v6=mon6/3650\n",
        "        print(\"Decada = \", v6)\n",
        "        input(\"Presiona enter para continuar\"+ \"\\n\")\n",
        "        mt=1\n",
        "    if hl==7:\n",
        "        mon7=int(input(\"Cantidad de Dia: \"))\n",
        "        v7=mon7/36500\n",
        "        print(\"Siglo = \", v7)\n",
        "        input(\"Presiona enter para continuar\"+ \"\\n\")\n",
        "        mt=1\n",
        "    if hl==8:\n",
        "        mon8=int(input(\"Cantidad de Dia: \"))\n",
        "        v8=mon8*24\n",
        "        print(\"Horas = \", v8)\n",
        "        input(\"Presiona enter para continuar\"+ \"\\n\")\n",
        "        mt=1\n",
        "    if hl==9:\n",
        "        mon9=int(input(\"Cantidad de Dia: \"))\n",
        "        v9=mon9*8.64e+7\n",
        "        print(\"Milisegundos = \", v9)\n",
        "        input(\"Presiona enter para continuar\"+ \"\\n\")\n",
        "        mt=1\n",
        "    if hl==10:\n",
        "        mon10=int(input(\"Cantidad de Dia: \"))\n",
        "        v10=mon10*8.64e+10\n",
        "        print(\"Microsegundos = \", v10)\n",
        "        input(\"Presiona enter para continuar\"+ \"\\n\")\n",
        "        mt=1\n",
        "    if hl==0:\n",
        "        mt=0\n",
        "    if (hl!=0 and hl!=1 and hl!=2 and hl!=3 and hl!=4 and hl!=5 and hl!=6 and hl!=7 and hl!=8 and hl!=9 and hl!=10):\n",
        "      print(\"Opcion invalida!\")\n",
        "      input(\"Presiona enter para continuar\"+ \"\\n\")\n",
        "      hl = 1"
      ]
    },
    {
      "cell_type": "markdown",
      "metadata": {
        "id": "ufC3YT8IJeqt"
      },
      "source": [
        "---------------------------------------------------------------------------"
      ]
    },
    {
      "cell_type": "markdown",
      "metadata": {
        "id": "gEgexM8vFXF3"
      },
      "source": [
        "Funcion que contiene categoria de Volumen"
      ]
    },
    {
      "cell_type": "code",
      "execution_count": null,
      "metadata": {
        "id": "w7cHHEvjFbEm"
      },
      "outputs": [],
      "source": [
        "def menuVolumen():\n",
        "  mv=1\n",
        "  while(mv==1):\n",
        "    print(\"CONVERSOR DE VOLUMEN\")\n",
        "    print(\"1-) Litros a Mililitros\")\n",
        "    print(\"2-) Mililitros a Litros\")\n",
        "    print(\"3-) Litros a Galon Imperial\")\n",
        "    print(\"4-) Galon Imperial a litros\")\n",
        "    print(\"5-) Litros a Metros Cubicos\")\n",
        "    print(\"6-) Metros Cubicos a Litros\")\n",
        "    print(\"7-) Galon Imperial a Metros Cubicos\")\n",
        "    print(\"8-) Metros Cubicos a Galon Imperial\")\n",
        "    print(\"9-) Litros a Pies cubicos\")\n",
        "    print(\"10-) Pies Cubicos a Litros\")\n",
        "    print(\"0-) Regresar\")\n",
        "    print(\"\")\n",
        "    hl=int(input(\"Elija una opcion \"+ \"\\n\"))\n",
        "    if hl==1:\n",
        "        vol1=int(input(\"Cantidad de Litros: \"))\n",
        "        v1=vol1*1000\n",
        "        print (\"Mililitros = \", v1)\n",
        "        input(\"Presiona enter para continuar\"+ \"\\n\")\n",
        "        mv=1\n",
        "    if hl==2:\n",
        "        vol2=float(input(\"Cantidad Litros: \"))\n",
        "        v2=vol2/1000\n",
        "        print(\"Litros = \", v2)\n",
        "        input(\"Presiona enter para continuar\"+ \"\\n\")\n",
        "        mv=1\n",
        "    if hl==3:\n",
        "        vol3=int(input(\"Cantidad Litros: \"))\n",
        "        v3=vol3/4.546\n",
        "        print(\"Galon Imperial = \", v3)\n",
        "        input(\"Presiona enter para continuar\"+ \"\\n\")\n",
        "        mv=1\n",
        "    if hl==4:\n",
        "        vol4=int(input(\"Cantidad Galones Imperiales: \"))\n",
        "        v4=vol4*4.546\n",
        "        print(\"Litros = \", v4)\n",
        "        input(\"Presiona enter para continuar\"+ \"\\n\")\n",
        "        mv=1\n",
        "    if hl==5:\n",
        "        vol5=int(input(\"Cantidad de Litros: \"))\n",
        "        v5=vol5/1000\n",
        "        print(\"Metros Cubicos = \", v5)\n",
        "        input(\"Presiona enter para continuar\"+ \"\\n\")\n",
        "        mv=1\n",
        "    if hl==6:\n",
        "        vol6=int(input(\"Cantidad Metro Cubicos: \"))\n",
        "        v6=vol6*1000\n",
        "        print(\"Litros = \", v6)\n",
        "        input(\"Presiona enter para continuar\"+ \"\\n\")\n",
        "        mv=1\n",
        "    if hl==7:\n",
        "        vol7=int(input(\"Cantidad Galon Imperial \"))\n",
        "        v7=vol7/220\n",
        "        print(\"Metros Cubicos = \", v7)\n",
        "        input(\"Presiona enter para continuar\"+ \"\\n\")\n",
        "        mv=1\n",
        "    if hl==8:\n",
        "        vol8=int(input(\"Cantidad Metros Cubicos \"))\n",
        "        v8=vol8*220\n",
        "        print(\"Galones Imperiales = \", v8)\n",
        "        input(\"Presiona enter para continuar\"+ \"\\n\")\n",
        "        mv=1\n",
        "    if hl==9:\n",
        "        vol9=int(input(\"Cantidad Litros \"))\n",
        "        v9=vol9/28.317\n",
        "        print(\"Pies Cubicos = \", v9)\n",
        "        input(\"Presiona enter para continuar\"+ \"\\n\")\n",
        "        mv=1\n",
        "    if hl==10:\n",
        "        vol10=int(input(\"Cantidad de Pies Cubicos: \"))\n",
        "        v10=vol10*28.317\n",
        "        print(\"Litros = \", v10)\n",
        "        input(\"Presiona enter para continuar\"+ \"\\n\")\n",
        "        mv=1\n",
        "    if (hl==0):\n",
        "      mv=0\n",
        "    if (hl!=0 and hl!=1 and hl!=2 and hl!=3 and hl!=4 and hl!=5 and hl!=6 and hl!=7 and hl!=8 and hl!=9 and hl!=10):\n",
        "      print(\"Opcion invalida!\")\n",
        "      input(\"Presiona enter para continuar\"+ \"\\n\")\n",
        "      hl = 1"
      ]
    },
    {
      "cell_type": "markdown",
      "metadata": {
        "id": "yQ_UvFnmJTJ1"
      },
      "source": [
        "--------------------------------------------------------------------------"
      ]
    },
    {
      "cell_type": "markdown",
      "metadata": {
        "id": "w38X0d8aFe4_"
      },
      "source": [
        "Funcion que contiene categoria de Area"
      ]
    },
    {
      "cell_type": "code",
      "execution_count": null,
      "metadata": {
        "id": "oaYMB0a8FekI"
      },
      "outputs": [],
      "source": [
        "def menuArea():\n",
        "  mar=1\n",
        "  while(mar==1):\n",
        "    print(\"CONVERSOR DE AREA\")\n",
        "    print(\"1-) Metro Cuadrado a Acre\")\n",
        "    print(\"2-) Acre a Metro Cuadrado\")\n",
        "    print(\"3-) Metro Cuadrado a Hectarea\")\n",
        "    print(\"4-) Hectarea a Metro Cuadrado\")\n",
        "    print(\"5-) Hecteras a Acres\")\n",
        "    print(\"6-) Acres a Hectareas\")\n",
        "    print(\"7-) Metro Cuadrado a Pulgada Cuadrada\")\n",
        "    print(\"8-) Pulgada Cuadrada a Metro Cuadrado\")\n",
        "    print(\"9-) Metro Cuadrado a Pies Cuadrados\")\n",
        "    print(\"10-) Pie Cuadrado a Metro Cuadrado\")\n",
        "    print(\"0-) Regresar\")\n",
        "    print(\"\")\n",
        "    hl=int(input(\"Elija una opcion \"+ \"\\n\"))\n",
        "    if hl==1:\n",
        "        are1=int(input(\"Cantidad de Metros Cuadrados: \"))\n",
        "        v1=are1/4047\n",
        "        print (\"Acres = \", v1)\n",
        "        input(\"Presiona enter para continuar\"+ \"\\n\")\n",
        "        mar=1\n",
        "    if hl==2:\n",
        "        are2=float(input(\"Cantidadde  Acres: \"))\n",
        "        v2=are2*4047\n",
        "        print(\"Metros Cuadrados = \", v2)\n",
        "        input(\"Presiona enter para continuar\"+ \"\\n\")\n",
        "        mar=1\n",
        "    if hl==3:\n",
        "        are3=int(input(\"Cantidad de Metros Cuadrados: \"))\n",
        "        v3=are3/10000\n",
        "        print(\"Hectareas = \", v3)\n",
        "        input(\"Presiona enter para continuar\"+ \"\\n\")\n",
        "        mar=1\n",
        "    if hl==4:\n",
        "        are4=int(input(\"Cantidad de Hectareas: \"))\n",
        "        v4=are4*10000\n",
        "        print(\"Metros Cuadrados = \", v4)\n",
        "        input(\"Presiona enter para continuar\"+ \"\\n\")\n",
        "        mar=1\n",
        "    if hl==5:\n",
        "        are5=int(input(\"Cantidad de Hectarias: \"))\n",
        "        v5=are5*2.471\n",
        "        print(\"Acres = \", v5)\n",
        "        input(\"Presiona enter para continuar\"+ \"\\n\")\n",
        "        mar=1\n",
        "    if hl==6:\n",
        "        are6=int(input(\"Cantidad de Acres: \"))\n",
        "        v6=are6/2.471\n",
        "        print(\"Pesos Mexicanos = \", v6)\n",
        "        input(\"Presiona enter para continuar\"+ \"\\n\")\n",
        "        mar=1\n",
        "    if hl==7:\n",
        "        are7=int(input(\"Cantidad de Metros Cuadrados: \"))\n",
        "        v7=are7*1550\n",
        "        print(\"Pulgada Cuadrada = \", v7)\n",
        "        input(\"Presiona enter para continuar\"+ \"\\n\")\n",
        "        mar=1\n",
        "    if hl==8:\n",
        "        are8=int(input(\"Cantidad de Pulgadas Cuadradas: \"))\n",
        "        v8=are8/1550\n",
        "        print(\"Metros Cuadrados = \", v8)\n",
        "        input(\"Presiona enter para continuar\"+ \"\\n\")\n",
        "        mar=1\n",
        "    if hl==9:\n",
        "        are9=int(input(\"Cantidad de Metros Cuadrados: \"))\n",
        "        v9=are9*10.764\n",
        "        print(\"Pies Cuadrados = \", v9)\n",
        "        input(\"Presiona enter para continuar\"+ \"\\n\")\n",
        "        mar=1\n",
        "    if hl==10:\n",
        "        are10=int(input(\"Cantidad de Pies Cuadrados:\"))\n",
        "        v10=are10/10.764\n",
        "        print(\"Metros Cuadrados = \", v10)\n",
        "        input(\"Presiona enter para continuar\"+ \"\\n\")\n",
        "        mar=1\n",
        "    if hl==0:\n",
        "      mar=0\n",
        "\n",
        "    if (hl!=0 and hl!=1 and hl!=2 and hl!=3 and hl!=4 and hl!=5 and hl!=6 and hl!=7 and hl!=8 and hl!=9 and hl!=10):\n",
        "      print(\"Opcion invalida!\")\n",
        "      input(\"Presiona enter para continuar\"+ \"\\n\")\n",
        "      hl = 1"
      ]
    },
    {
      "cell_type": "markdown",
      "metadata": {
        "id": "XfPzdsvdJQ4t"
      },
      "source": [
        "------------------------------------------------------------------------"
      ]
    },
    {
      "cell_type": "markdown",
      "metadata": {
        "id": "5J575Pc1Fk1X"
      },
      "source": [
        "5. CONVERSOR PROPIO"
      ]
    },
    {
      "cell_type": "code",
      "execution_count": null,
      "metadata": {
        "id": "PhgZl6LUFnLg"
      },
      "outputs": [],
      "source": [
        "def conPropio():\n",
        "  mcp = 1\n",
        "  while(mcp==1):\n",
        "    print(\"\\n\")\n",
        "    print(\"1-) Caja a Unidad\")\n",
        "    print(\"2-) Unidad a Caja\")\n",
        "    print(\"3-) Saco a Libra\")\n",
        "    print(\"4-) Libra a Saco\")\n",
        "    print(\"5-) Fardo a Unidad\")\n",
        "    print(\"6-) Unidad a Fardo\")\n",
        "    print(\"0-) Regresar\")\n",
        "    print(\"\")\n",
        "    hl=int(input(\"Coloque aqui opcion \"))\n",
        "    if(hl!=0):\n",
        "      print(\"\\n\")\n",
        "    if hl==1:\n",
        "        pro1=int(input(\"Cantidad de Cajas: \"))\n",
        "        v1=pro1*25\n",
        "        print (\"Unidades = \", v1)\n",
        "        input(\"Presiona enter para continuar\"+ \"\\n\")\n",
        "        mcp = 1\n",
        "    if hl==2:\n",
        "        pro2=float(input(\"Cantidad de Unidades: \"))\n",
        "        v2=pro2/25\n",
        "        print(\"Caja = \", v2)\n",
        "        input(\"Presiona enter para continuar\"+ \"\\n\")\n",
        "        mcp = 1\n",
        "    if hl==3:\n",
        "        pro3=int(input(\"Cantidad de Saco: \"))\n",
        "        v3=pro3*50\n",
        "        print(\"Libras = \", v3)\n",
        "        input(\"Presiona enter para continuar\"+ \"\\n\")\n",
        "        mcp = 1\n",
        "    if hl==4:\n",
        "        pro4=int(input(\"Cantidad de Libras: \"))\n",
        "        v4=pro4/50\n",
        "        print(\"Sacos = \", v4)\n",
        "        input(\"Presiona enter para continuar\"+ \"\\n\")\n",
        "        mcp = 1\n",
        "    if hl==5:\n",
        "        pro5=int(input(\"Cantidad de Fardos: \"))\n",
        "        v5=pro5*5\n",
        "        print(\"Unidades = \", v5)\n",
        "        input(\"Presiona enter para continuar\"+ \"\\n\")\n",
        "        mcp = 1\n",
        "    if hl==6:\n",
        "        pro6=int(input(\"Cantidad de Unidades: \"))\n",
        "        v6=pro6/5\n",
        "        print(\"Fardos = \", v6)\n",
        "        input(\"Presiona enter para continuar\"+ \"\\n\")\n",
        "        mcp = 1\n",
        "    if hl==0:\n",
        "        mcp = 0\n",
        "    if (hl!=0 and hl!=1 and hl!=3 and hl!=4 and hl!=5 and hl!=6):\n",
        "      print(\"Opcion invalida!\")\n",
        "      input(\"Presiona enter para continuar\"+ \"\\n\")\n",
        "      hl = 1\n",
        "\n",
        "  print(\"\\n\")"
      ]
    },
    {
      "cell_type": "markdown",
      "metadata": {
        "id": "b39I2PHdJOtW"
      },
      "source": [
        "--------------------------------------------------------------------------"
      ]
    },
    {
      "cell_type": "markdown",
      "metadata": {
        "id": "uZCTcjHhFrPX"
      },
      "source": [
        "MENU PRINCIPAL (Menu a Ejecutar)"
      ]
    },
    {
      "cell_type": "markdown",
      "metadata": {
        "id": "SO3YjIJGFuG_"
      },
      "source": [
        "Menu desde donde se accede a cada uno de los ejercicios."
      ]
    },
    {
      "cell_type": "code",
      "execution_count": null,
      "metadata": {
        "colab": {
          "base_uri": "https://localhost:8080/"
        },
        "id": "t2wZPfT2FqQX",
        "outputId": "fba4b4f9-d818-4f84-9fbb-d4a2edc7106b"
      },
      "outputs": [
        {
          "name": "stdout",
          "output_type": "stream",
          "text": [
            "Bienvenido!\n",
            "1. Ejercicio Deducciones por Ley\n",
            "2. Ejercicio Metros Consumidos de Agua Potable\n",
            "3. Ejercicio Tabla de Meses Acumulados\n",
            "4. Ejercicio Conversores\n",
            "5. Conversor Propio\n",
            "0. Salir\n",
            "Ingrese el Numero de Item a Evaluar: \n",
            "3\n",
            "\n",
            "\n"
          ]
        }
      ],
      "source": [
        "\n",
        "mw = 1\n",
        "while (mw == 1):\n",
        "  print(\"Bienvenido!\")\n",
        "  print(\"1. Ejercicio Deducciones por Ley\")\n",
        "  print(\"2. Ejercicio Metros Consumidos de Agua Potable\")\n",
        "  print(\"3. Ejercicio Tabla de Meses Acumulados\")\n",
        "  print(\"4. Ejercicio Conversores\")\n",
        "  print(\"5. Conversor Propio\")\n",
        "  print(\"0. Salir\")\n",
        "  opcion = int(input(\"Ingrese el Numero de Item a Evaluar: \"+ \"\\n\"))\n",
        "\n",
        "  if (opcion==1):\n",
        "    deducciones()\n",
        "    input(\"Presiona enter para continuar\"+ \"\\n\")\n",
        "    mw = 1\n",
        "  if (opcion==2):\n",
        "    maPotable()\n",
        "    input(\"Presiona enter para continuar\"+ \"\\n\")\n",
        "    mw = 1\n",
        "  if (opcion==3):\n",
        "    calcularNmeses()\n",
        "    input(\"Presiona enter para continuar\"+ \"\\n\")\n",
        "    mw = 1\n",
        "  if (opcion==4):\n",
        "    menuConversores()\n",
        "    mw = 1\n",
        "  if (opcion==5):\n",
        "    conPropio()\n",
        "    mw = 1\n",
        "  if (opcion==0):\n",
        "    print(\"Gracias por Usar, Vuelve Pronto!\")\n",
        "    mw = 0\n",
        "  if+ (opcion!=0 and opcion!=1 and opcion!=2 and opcion!=3 and opcion!=4 and opcion!=5):\n",
        "    print(\"Opcion invalida!\")\n",
        "    input(\"Presiona enter para continuar\"+ \"\\n\")\n",
        "    mw = 1"
      ]
    },
    {
      "cell_type": "markdown",
      "metadata": {
        "id": "HeX5qV2JJK6l"
      },
      "source": [
        "---------------------------------------------------------------------------"
      ]
    },
    {
      "cell_type": "markdown",
      "metadata": {
        "id": "aa8MNHS3ExZj"
      },
      "source": [
        "Tarea practica"
      ]
    },
    {
      "cell_type": "markdown",
      "metadata": {
        "id": "PLjPb2l4I6Db"
      },
      "source": [
        "**Escribir un programa que pida la nota de un examen (0.10). e imprima por pantalla la calificacion en formato: \"Suspenso\" si la nota es menor a 5, aprobado si es entre 5 y 7 inclusive, y 7 sin incluir, \"Notable\" si esta entre 7 inclusive y 9 sin incluir, \"Sobresaliente\" si esta entre 9 inclusive y 10 sin incluir, y \"Honorable\" si es 10.**"
      ]
    },
    {
      "cell_type": "code",
      "execution_count": null,
      "metadata": {
        "id": "zwHxJYdzI5wj"
      },
      "outputs": [],
      "source": [
        "nota = float(input(\"Nota: \"))\n",
        "if(nota<0 or nota>10):\n",
        "  print(\"Nota invalida\")\n",
        "elif(nota<5):\n",
        "  print(\"SUPENSO\")\n",
        "elif(nota<7):\n",
        "  print(\"APROBADO\")\n",
        "elif(nota<9):\n",
        "  print(\"NOTABLE\")\n",
        "elif(nota<10):\n",
        "  print(\"SOBRESALIENTE\")\n",
        "else:\n",
        "  print(\"HONORABLE\")"
      ]
    },
    {
      "cell_type": "markdown",
      "metadata": {
        "id": "Fsx6eg2UJCy7"
      },
      "source": [
        "---------------------------------------------------------------------------"
      ]
    },
    {
      "cell_type": "markdown",
      "metadata": {
        "id": "Rh0mz0SSS2Jw"
      },
      "source": [
        "**Escriba un programa que muestre la secuencia fibonacci**"
      ]
    },
    {
      "cell_type": "code",
      "execution_count": null,
      "metadata": {
        "id": "OcNba58sIRIU"
      },
      "outputs": [],
      "source": [
        "limit = int(input(\"Limit: \"))\n",
        "a=0\n",
        "b=1\n",
        "c=0\n",
        "while c<limit:\n",
        "  c=a+b\n",
        "  print(a,\"+\",b,\"=\", c)\n",
        "  b=a\n",
        "  a=c\n"
      ]
    },
    {
      "cell_type": "markdown",
      "metadata": {
        "id": "NuD8ozeEJaZ1"
      },
      "source": [
        "--------------------------------------------------------------------------"
      ]
    },
    {
      "cell_type": "markdown",
      "metadata": {
        "id": "DJDJ-qGeIVkE"
      },
      "source": [
        "TAREA\n",
        "\n",
        "\n",
        "1-Escriba un programa que encuentre la media aritmetica de una serie de numeros introducidos por el usuario.\n",
        "\n",
        "2-Escriba un programa que determine si una palabra introducida por el usuario es palindrome o no, ejm. de palabras palindrome: Ana, oso, oro, etc.\n",
        "\n",
        "3-Escriba un programa que convierta un numero instroducido por el usuario a su equivalente en numeros romanos. Ejm: 5 -> V\n"
      ]
    },
    {
      "cell_type": "markdown",
      "metadata": {
        "id": "Ej_M0Rw5JAK7"
      },
      "source": [
        "--------------------------------------------------------------------------"
      ]
    },
    {
      "cell_type": "markdown",
      "metadata": {
        "id": "weMMsqRaI481"
      },
      "source": [
        "1- Escriba un programa que encuentre la media aritmetica de una serie de numeros introducidos por el usuario."
      ]
    },
    {
      "cell_type": "code",
      "execution_count": null,
      "metadata": {
        "id": "JAFy5vqCI4YO"
      },
      "outputs": [],
      "source": [
        "#PROGRAMA\n",
        "print(\"Bienvenido al programa de media aritmetica:\")\n",
        "\n",
        "cantidad_numeros_aritmetica = int(input(\"Ingrese la cantidad de números solicitado por el usuario: \"))\n",
        "sumadeltotal = 0\n",
        "\n",
        "#INGRESO DE NUMEROS\n",
        "for i in range(cantidad_numeros_aritmetica):\n",
        "    numero = float(input(f\"Ingrese los numeros: {i+1}: \"))\n",
        "    sumadeltotal += numero\n",
        "\n",
        "media = sumadeltotal / cantidad_numeros_aritmetica\n",
        "\n",
        "#RESULTADOS DE LA MEDIA ARITMETICA\n",
        "print(f\"La media aritmética de los números es: {media}\")\n",
        "print(\"Gracias por utilizar el programa de media aritmetica, Vuelve Pronto!\")"
      ]
    },
    {
      "cell_type": "markdown",
      "metadata": {
        "id": "VvcWs0hkQsAs"
      },
      "source": [
        "---------------------------------------------------------------------------"
      ]
    },
    {
      "cell_type": "markdown",
      "metadata": {
        "id": "MAEu28RuPS9M"
      },
      "source": [
        "2-Escriba un programa que determine si una palabra introducida por el usuario es palindrome o no, ejm. de palabras palindrome: Ana, oso, oro, etc."
      ]
    },
    {
      "cell_type": "code",
      "execution_count": null,
      "metadata": {
        "id": "bzmLNlMsPTW8"
      },
      "outputs": [],
      "source": [
        "print(\"Bienvenido al programa de Palabras Palindromas:\")\n",
        "\n",
        "def convertidor_palindromo(palabra):\n",
        "    palabra = palabra.lower()  #Minusculas\n",
        "    palabra = palabra.replace(\" \", \"\")  #Espacios\n",
        "    return palabra == palabra[::-1]\n",
        "\n",
        "# Pedir al usuario que ingrese una palabra\n",
        "palabra_usuario = input(\"Ingrese una palabra para la verificacion: \")\n",
        "\n",
        "#VALIDACIONES\n",
        "if convertidor_palindromo(palabra_usuario):\n",
        "    print(f\"{palabra_usuario} es un palíndromo.\")\n",
        "else:\n",
        "    print(f\"{palabra_usuario} no es un palíndromo.\")"
      ]
    },
    {
      "cell_type": "markdown",
      "metadata": {
        "id": "_7cLdmoVQxJM"
      },
      "source": [
        "---------------------------------------------------------------------------"
      ]
    },
    {
      "cell_type": "markdown",
      "metadata": {
        "id": "CNbBjou1Q1T0"
      },
      "source": [
        "3-Escriba un programa que convierta un numero instroducido por el usuario a su equivalente en numeros romanos. Ejm: 5 -> V"
      ]
    },
    {
      "cell_type": "code",
      "execution_count": null,
      "metadata": {
        "id": "aYN8yD02Q0Zz"
      },
      "outputs": [],
      "source": [
        "def int_to_roman(num):\n",
        "    val_romanos = [\n",
        "        (1000, 'M'), (900, 'CM'), (500, 'D'), (400, 'CD'),\n",
        "        (100, 'C'), (90, 'XC'), (50, 'L'), (40, 'XL'),\n",
        "        (10, 'X'), (9, 'IX'), (5, 'V'), (4, 'IV'), (1, 'I')\n",
        "    ]\n",
        "    resultado = \"\"\n",
        "\n",
        "    for valor, romano in val_romanos:\n",
        "        while num >= valor:\n",
        "            resultado += romano\n",
        "            num -= valor\n",
        "\n",
        "    return resultado\n",
        "\n",
        "numero = int(input(\"Introduce un número: \"))\n",
        "if 1 <= numero <= 3999:\n",
        "    numero_romano = int_to_roman(numero)\n",
        "    print(f\"El número romano equivalente es: {numero_romano}\")\n",
        "else:\n",
        "    print(\"El número debe estar en el rango de 1 a 3999 para ser convertido a número romano.\")\n"
      ]
    },
    {
      "cell_type": "markdown",
      "metadata": {
        "id": "lOCkyNwkViGA"
      },
      "source": [
        "PARCIAL NUMERO 1 BLOQUE |\n",
        "\n",
        "\n",
        "Menu de categorias:  con funciones para poder convertir de manera contrarias de las categorias.\n",
        "\n",
        "Pie Cuadrado,\n",
        "Vara Cuadrada,\n",
        "Yarda Cuadrada,\n",
        "Metro Cuadrado,\n",
        "Tareas,\n",
        "Manzana,\n",
        "Hectárea,\n",
        "\n",
        "\n"
      ]
    },
    {
      "cell_type": "code",
      "execution_count": null,
      "metadata": {
        "id": "DiuVfl3pXmod"
      },
      "outputs": [],
      "source": [
        "def menuConversores():\n",
        "  i = 1\n",
        "  while(i == 1):\n",
        "    print(\"Bienvenido!\")\n",
        "    print(\"Conversores\")\n",
        "    print(\"1. Pie Cuadrado\")\n",
        "    print(\"2. Vara Cuadrada\")\n",
        "    print(\"3. Yarda Cuadrada\")\n",
        "    print(\"4. Metro Cuadrado\")\n",
        "    print(\"5. Tareas\")\n",
        "    print(\"6. Manzana \")\n",
        "    print(\"7. Hectarea\")\n",
        "    print(\"0-) Regresar\")\n",
        "    op = int(input(\"Elija una categoria: \"))\n",
        "    print(\"\\n\")\n",
        "\n",
        "    if (op==1):\n",
        "      menuPiecuadrado()\n",
        "      i = 1\n",
        "    if (op==2):\n",
        "      menuVaraCuadrada()\n",
        "      i = 1\n",
        "    if (op==3):\n",
        "      menuYardaCuadrada()\n",
        "      i = 1\n",
        "    if (op==4):\n",
        "      menuMetroCuadrado()\n",
        "      i = 1\n",
        "    if (op==5):\n",
        "      menuTareas()\n",
        "      i = 1\n",
        "    if (op==6):\n",
        "      menuManzana()\n",
        "      i = 1\n",
        "    if (op==7):\n",
        "      menuHectarea()\n",
        "      i = 1\n",
        "    if (op==0):\n",
        "      i = 0\n",
        "    if (op >7):\n",
        "      print(\"Opcion no valida\")\n",
        "      input(\"Presiona enter para continuar \"+ \"\\n\")\n",
        "      i = 1"
      ]
    },
    {
      "cell_type": "markdown",
      "metadata": {
        "id": "xu0rEtKbc9RC"
      },
      "source": [
        "PIE CUADRADO"
      ]
    },
    {
      "cell_type": "code",
      "execution_count": null,
      "metadata": {
        "colab": {
          "base_uri": "https://localhost:8080/"
        },
        "id": "uOEWXNiwVbWX",
        "outputId": "35231c57-8547-40e9-8d92-1c9299f60462"
      },
      "outputs": [
        {
          "output_type": "stream",
          "name": "stdout",
          "text": [
            "Coloque aqui opcion 1\n",
            "Cantidad de Pie Cuadrado: 1\n",
            "Vara Cuadrada =  86400\n"
          ]
        }
      ],
      "source": [
        "def menuPieCuadrado():\n",
        "\n",
        "  print(\"1-) Pie Cuadrado a Vara Cuadrada \")\n",
        "  print(\"2-) Pie Cuadrado a Yarda Cuadrada\")\n",
        "  print(\"3-) Pie Cuadrado a Metro Cuadrado\")\n",
        "  print(\"4-) Pie Cuadrado a Tareas\")\n",
        "  print(\"5-) Pie Cuadrado a Manzana\")\n",
        "  print(\"6-) Pie cuadrado a Hectarea\")\n",
        "  print(\"\")\n",
        "\n",
        "hl=int(input(\"Coloque aqui opcion \"))\n",
        "if hl==1:\n",
        "    mon1=int(input(\"Cantidad de Pie Cuadrado: \"))\n",
        "    v1=mon1*86400\n",
        "    print (\"Vara Cuadrada = \", v1)\n",
        "if hl==2:\n",
        "    mon2=float(input(\"Cantidad de Pie Cuadrado: \"))\n",
        "    v2=mon2*1440\n",
        "    print(\"Yarda Cuadrada = \", v2)\n",
        "if hl==3:\n",
        "    mon3=int(input(\"Cantidad de Pie Cuadrado: \"))\n",
        "    v3=mon3/7\n",
        "    print(\"Metro Cuadrado = \", v3)\n",
        "if hl==4:\n",
        "    mon4=int(input(\"Cantidad de Pie Cuadrado: \"))\n",
        "    v4=mon4/30.417\n",
        "    print(\" Tareas = \", v4)\n",
        "if hl==5:\n",
        "    mon5=int(input(\"Cantidad de  Pie Cuadrado: \"))\n",
        "    v5=mon5/365\n",
        "    print(\"Manzana = \", v5)\n",
        "if hl==6:\n",
        "    mon6=int(input(\"Cantidad de  Pie Cuadrado: \"))\n",
        "    v6=mon6/3650\n",
        "    print(\"Hectarea = \", v6)\n",
        "\n"
      ]
    },
    {
      "cell_type": "code",
      "execution_count": null,
      "metadata": {
        "id": "66ImnRsCfbbw",
        "colab": {
          "base_uri": "https://localhost:8080/"
        },
        "outputId": "998e1c30-ace3-432f-dc35-aceca1f05992"
      },
      "outputs": [
        {
          "output_type": "stream",
          "name": "stdout",
          "text": [
            "\n",
            "Coloque aqui opcion 3\n",
            "Cantidad de Vara Cuadrada: 1\n",
            "Metro Cuadrado =  0.14285714285714285\n"
          ]
        }
      ],
      "source": [
        "def MenuVaraCuadrada ():\n",
        "\n",
        "  print(\"1-) Vara Cuadrada a  Pie Cuadrado \")\n",
        "  print(\"2-) Vara Cuadrada a Yarda Cuadrada\")\n",
        "  print(\"3-) Vara Cuadrada a Metro Cuadrado\")\n",
        "  print(\"4-) Vara Cuadrada a Tareas\")\n",
        "  print(\"5-) Vara Cuadrada a Manzana\")\n",
        "  print(\"6-) Vara Cuadrada a Hectarea\")\n",
        "\n",
        "print(\"\")\n",
        "hl=int(input(\"Coloque aqui opcion \"))\n",
        "if hl==1:\n",
        "    mon1=int(input(\"Cantidad de Vara Cuadrada: \"))\n",
        "    v1=mon1*86400\n",
        "    print (\"Pie Cuadrada = \", v1)\n",
        "if hl==2:\n",
        "    mon2=float(input(\"Cantidad de Vara Cuadrada: \"))\n",
        "    v2=mon2*1440\n",
        "    print(\"Yarda Cuadrada = \", v2)\n",
        "if hl==3:\n",
        "    mon3=int(input(\"Cantidad de Vara Cuadrada: \"))\n",
        "    v3=mon3/7\n",
        "    print(\"Metro Cuadrado = \", v3)\n",
        "if hl==4:\n",
        "    mon4=int(input(\"Cantidad de Vara Cuadrada: \"))\n",
        "    v4=mon4/30.417\n",
        "    print(\" Tareas = \", v4)\n",
        "if hl==5:\n",
        "    mon5=int(input(\"Cantidad de  Vara Cuadrada: \"))\n",
        "    v5=mon5/365\n",
        "    print(\"Manzana = \", v5)\n",
        "if hl==6:\n",
        "    mon6=int(input(\"Cantidad de  Vara Cuadrada: \"))\n",
        "    v6=mon6/3650\n",
        "    print(\"Hectarea = \", v6)\n",
        "\n"
      ]
    },
    {
      "cell_type": "code",
      "execution_count": null,
      "metadata": {
        "id": "6T3MBi2JiSTG"
      },
      "outputs": [],
      "source": [
        "\n",
        "mw = 1\n",
        "while (mw == 1):\n",
        "  print(\"Bienvenido!\")\n",
        "  print(\"1. Ejercicio Deducciones por Ley\")\n",
        "  print(\"2. Ejercicio Metros Consumidos de Agua Potable\")\n",
        "  print(\"3. Ejercicio Tabla de Meses Acumulados\")\n",
        "  print(\"4. Ejercicio Conversores\")\n",
        "  print(\"5. Conversor Propio\")\n",
        "  print(\"0. Salir\")\n",
        "  opcion = int(input(\"Ingrese el Numero de Item a Evaluar: \"+ \"\\n\"))\n",
        "\n",
        "  if (opcion==1):\n",
        "    menuPieCuadrado()\n",
        "    input(\"Presiona enter para continuar\"+ \"\\n\")\n",
        "    mw = 1\n",
        "  if (opcion==2):\n",
        "    MenuVaraCuadrada()\n",
        "    input(\"Presiona enter para continuar\"+ \"\\n\")\n",
        "    mw = 1\n",
        "  if (opcion==3):\n",
        "    calcularNmeses()\n",
        "    input(\"Presiona enter para continuar\"+ \"\\n\")\n",
        "    mw = 1\n",
        "  if (opcion==4):\n",
        "    menuConversores()\n",
        "    mw = 1\n",
        "  if (opcion==5):\n",
        "    conPropio()\n",
        "    mw = 1\n",
        "  if (opcion==0):\n",
        "    print(\"Gracias por Usar, Vuelve Pronto!\")\n",
        "    mw = 0\n",
        "  if+ (opcion!=0 and opcion!=1 and opcion!=2 and opcion!=3 and opcion!=4 and opcion!=5):\n",
        "    print(\"Opcion invalida!\")\n",
        "    input(\"Presiona enter para continuar\"+ \"\\n\")\n",
        "    mw = 1"
      ]
    }
  ],
  "metadata": {
    "colab": {
      "provenance": [],
      "include_colab_link": true
    },
    "kernelspec": {
      "display_name": "Python 3",
      "name": "python3"
    },
    "language_info": {
      "name": "python"
    }
  },
  "nbformat": 4,
  "nbformat_minor": 0
}